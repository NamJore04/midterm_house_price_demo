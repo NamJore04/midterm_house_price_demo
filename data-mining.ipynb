{
 "cells": [
  {
   "cell_type": "code",
   "execution_count": 2,
   "metadata": {
    "execution": {
     "iopub.execute_input": "2025-05-05T06:37:21.870601Z",
     "iopub.status.busy": "2025-05-05T06:37:21.869703Z",
     "iopub.status.idle": "2025-05-05T06:37:21.875657Z",
     "shell.execute_reply": "2025-05-05T06:37:21.874669Z",
     "shell.execute_reply.started": "2025-05-05T06:37:21.870569Z"
    },
    "trusted": true
   },
   "outputs": [],
   "source": [
    "from sklearn.model_selection import train_test_split\n",
    "from sklearn.datasets import make_regression\n",
    "import matplotlib.pyplot as plt\n",
    "import numpy as np\n",
    "import pandas as pd\n",
    "from sklearn.preprocessing import LabelEncoder\n",
    "from sklearn.metrics import mean_squared_error, mean_absolute_error, r2_score\n",
    "from sklearn.preprocessing import StandardScaler, MinMaxScaler\n",
    "from sklearn.ensemble import RandomForestRegressor"
   ]
  },
  {
   "cell_type": "code",
   "execution_count": 3,
   "metadata": {
    "execution": {
     "iopub.execute_input": "2025-05-05T06:37:30.171022Z",
     "iopub.status.busy": "2025-05-05T06:37:30.170674Z",
     "iopub.status.idle": "2025-05-05T06:37:30.199010Z",
     "shell.execute_reply": "2025-05-05T06:37:30.197829Z",
     "shell.execute_reply.started": "2025-05-05T06:37:30.170996Z"
    },
    "trusted": true
   },
   "outputs": [],
   "source": [
    "housing = pd.read_csv(\"/kaggle/input/clean-dataset-house-pricing/clean_data.csv\")\n",
    "df=housing\n",
    "learning_rate = 1e-3\n",
    "n_iters = 10000"
   ]
  },
  {
   "cell_type": "code",
   "execution_count": 6,
   "metadata": {
    "execution": {
     "iopub.execute_input": "2025-05-05T06:38:05.151131Z",
     "iopub.status.busy": "2025-05-05T06:38:05.150773Z",
     "iopub.status.idle": "2025-05-05T06:38:05.164499Z",
     "shell.execute_reply": "2025-05-05T06:38:05.163561Z",
     "shell.execute_reply.started": "2025-05-05T06:38:05.151103Z"
    },
    "trusted": true
   },
   "outputs": [
    {
     "name": "stdout",
     "output_type": "stream",
     "text": [
      "        price      area  bedrooms  bathrooms   stories  mainroad  guestroom  \\\n",
      "0    13300000  0.396564       0.6   0.333333  0.666667         1          0   \n",
      "1    12250000  0.502405       0.6   1.000000  1.000000         1          0   \n",
      "2    12250000  0.571134       0.4   0.333333  0.333333         1          0   \n",
      "3    12215000  0.402062       0.6   0.333333  0.333333         1          0   \n",
      "4    11410000  0.396564       0.6   0.000000  0.333333         1          1   \n",
      "..        ...       ...       ...        ...       ...       ...        ...   \n",
      "540   1820000  0.092784       0.2   0.000000  0.000000         1          0   \n",
      "541   1767150  0.051546       0.4   0.000000  0.000000         0          0   \n",
      "542   1750000  0.135395       0.2   0.000000  0.000000         1          0   \n",
      "543   1750000  0.086598       0.4   0.000000  0.000000         0          0   \n",
      "544   1750000  0.151203       0.4   0.000000  0.333333         1          0   \n",
      "\n",
      "     basement  hotwaterheating  airconditioning   parking  prefarea  \\\n",
      "0           0                0                1  0.666667         1   \n",
      "1           0                0                1  1.000000         0   \n",
      "2           1                0                0  0.666667         1   \n",
      "3           1                0                1  1.000000         1   \n",
      "4           1                0                1  0.666667         0   \n",
      "..        ...              ...              ...       ...       ...   \n",
      "540         1                0                0  0.666667         0   \n",
      "541         0                0                0  0.000000         0   \n",
      "542         0                0                0  0.000000         0   \n",
      "543         0                0                0  0.000000         0   \n",
      "544         0                0                0  0.000000         0   \n",
      "\n",
      "     furnishingstatus  \n",
      "0                   0  \n",
      "1                   0  \n",
      "2                   1  \n",
      "3                   0  \n",
      "4                   0  \n",
      "..                ...  \n",
      "540                 2  \n",
      "541                 1  \n",
      "542                 2  \n",
      "543                 0  \n",
      "544                 2  \n",
      "\n",
      "[545 rows x 13 columns]\n"
     ]
    }
   ],
   "source": [
    "print(housing)"
   ]
  },
  {
   "cell_type": "code",
   "execution_count": 5,
   "metadata": {
    "execution": {
     "iopub.execute_input": "2025-05-05T06:37:58.351074Z",
     "iopub.status.busy": "2025-05-05T06:37:58.350769Z",
     "iopub.status.idle": "2025-05-05T06:37:58.373702Z",
     "shell.execute_reply": "2025-05-05T06:37:58.372751Z",
     "shell.execute_reply.started": "2025-05-05T06:37:58.351054Z"
    },
    "trusted": true
   },
   "outputs": [],
   "source": [
    "target_col = df.columns[0]\n",
    "\n",
    "# Xác định các cột liên tục (numeric) và phân loại (object)\n",
    "continuous_cols = df.select_dtypes(include=['float64', 'int64']).columns.drop(target_col, errors='ignore')\n",
    "categorical_cols = df.select_dtypes(include=['object']).columns\n",
    "\n",
    "# Chuẩn hóa các cột liên tục\n",
    "# scaler = StandardScaler()\n",
    "scaler = MinMaxScaler()\n",
    "df[continuous_cols] = scaler.fit_transform(df[continuous_cols])\n",
    "\n",
    "# Label encode các cột phân loại\n",
    "le = LabelEncoder()\n",
    "for col in categorical_cols:\n",
    "    df[col] = le.fit_transform(df[col])"
   ]
  },
  {
   "cell_type": "code",
   "execution_count": 7,
   "metadata": {
    "execution": {
     "iopub.execute_input": "2025-05-05T06:38:09.908422Z",
     "iopub.status.busy": "2025-05-05T06:38:09.907969Z",
     "iopub.status.idle": "2025-05-05T06:38:09.919869Z",
     "shell.execute_reply": "2025-05-05T06:38:09.918847Z",
     "shell.execute_reply.started": "2025-05-05T06:38:09.908389Z"
    },
    "trusted": true
   },
   "outputs": [],
   "source": [
    "# Chia dữ liệu\n",
    "X_train, X_test, y_train, y_test = train_test_split(\n",
    "    df.iloc[:, 1:], df.iloc[:, 0], test_size=0.2, random_state=42\n",
    ")"
   ]
  },
  {
   "cell_type": "code",
   "execution_count": 8,
   "metadata": {
    "execution": {
     "iopub.execute_input": "2025-05-05T06:38:18.621597Z",
     "iopub.status.busy": "2025-05-05T06:38:18.620938Z",
     "iopub.status.idle": "2025-05-05T06:38:18.628328Z",
     "shell.execute_reply": "2025-05-05T06:38:18.627419Z",
     "shell.execute_reply.started": "2025-05-05T06:38:18.621569Z"
    },
    "trusted": true
   },
   "outputs": [],
   "source": [
    "class LinearRegression:\n",
    "    def __init__(self, learning_rate=0.01, n_iters=1000):\n",
    "        self.lr = learning_rate\n",
    "        self.n_iters = n_iters\n",
    "        self.weights = None\n",
    "        self.bias = None\n",
    "\n",
    "    def fit(self, X, y):\n",
    "        n_samples, n_features = X.shape\n",
    "        self.weights = np.zeros(n_features)\n",
    "        self.bias = 0\n",
    "\n",
    "        for _ in range(self.n_iters):\n",
    "            y_predicted = np.dot(X, self.weights) + self.bias\n",
    "\n",
    "            # Tính đạo hàm\n",
    "            dw = (1 / n_samples) * np.dot(X.T, (y_predicted - y))\n",
    "            db = (1 / n_samples) * np.sum(y_predicted - y)\n",
    "\n",
    "            # Cập nhật trọng số\n",
    "            self.weights -= self.lr * dw\n",
    "            self.bias -= self.lr * db\n",
    "\n",
    "    def predict(self, X):\n",
    "        return np.dot(X, self.weights) + self.bias"
   ]
  },
  {
   "cell_type": "code",
   "execution_count": 42,
   "metadata": {
    "execution": {
     "iopub.execute_input": "2025-05-05T07:02:29.131973Z",
     "iopub.status.busy": "2025-05-05T07:02:29.131634Z",
     "iopub.status.idle": "2025-05-05T07:02:37.558733Z",
     "shell.execute_reply": "2025-05-05T07:02:37.557807Z",
     "shell.execute_reply.started": "2025-05-05T07:02:29.131951Z"
    },
    "trusted": true
   },
   "outputs": [
    {
     "name": "stdout",
     "output_type": "stream",
     "text": [
      "Mean Squared Error (MSE): 2048385386436.48\n",
      "Mean Absolute Error (MAE): 1015852.35\n",
      "R-squared: 0.59\n"
     ]
    }
   ],
   "source": [
    "# Huấn luyện mô hình\n",
    "reg = LinearRegression(learning_rate=learning_rate, n_iters=10000)\n",
    "reg.fit(X_train, y_train)\n",
    "\n",
    "# Dự đoán trên dữ liệu test\n",
    "predictions = reg.predict(X_test)\n",
    "\n",
    "# Tính các thông số đánh giá\n",
    "mse = mean_squared_error(y_test, predictions)\n",
    "mae = mean_absolute_error(y_test, predictions)\n",
    "r2 = r2_score(y_test, predictions)\n",
    "\n",
    "# Hiển thị các thông số đánh giá\n",
    "print(f'Mean Squared Error (MSE): {mse:.2f}')\n",
    "print(f'Mean Absolute Error (MAE): {mae:.2f}')\n",
    "print(f'R-squared: {r2:.2f}')"
   ]
  },
  {
   "cell_type": "code",
   "execution_count": 50,
   "metadata": {
    "execution": {
     "iopub.execute_input": "2025-05-05T07:05:59.549047Z",
     "iopub.status.busy": "2025-05-05T07:05:59.548705Z",
     "iopub.status.idle": "2025-05-05T07:06:17.985943Z",
     "shell.execute_reply": "2025-05-05T07:06:17.984947Z",
     "shell.execute_reply.started": "2025-05-05T07:05:59.549024Z"
    },
    "trusted": true
   },
   "outputs": [
    {
     "name": "stdout",
     "output_type": "stream",
     "text": [
      "Mean Squared Error: 1759458230272.00\n",
      "Mean Absolute Error: 970413.06\n",
      "R-squared: 0.65\n"
     ]
    }
   ],
   "source": [
    "import torch\n",
    "import torch.nn as nn\n",
    "import torch.optim as optim\n",
    "\n",
    "# Chuyển dữ liệu thành tensor\n",
    "X_train_tensor = torch.tensor(X_train.values, dtype=torch.float32)\n",
    "X_test_tensor = torch.tensor(X_test.values, dtype=torch.float32)\n",
    "y_train_tensor = torch.tensor(y_train.values, dtype=torch.float32).view(-1, 1)\n",
    "y_test_tensor = torch.tensor(y_test.values, dtype=torch.float32).view(-1, 1)\n",
    "\n",
    "# Xây dựng mô hình ANN\n",
    "class ANN_Model(nn.Module):\n",
    "    def __init__(self, input_size, output_size):\n",
    "        super(ANN_Model, self).__init__()\n",
    "        self.hidden_layer_1 = nn.Linear(input_size, 64)\n",
    "        self.hidden_layer_2 = nn.Linear(64,32)\n",
    "        self.hidden_layer_3 = nn.Linear(32,16)\n",
    "        self.output_layer = nn.Linear(16, output_size)\n",
    "        \n",
    "    def forward(self, x):\n",
    "        x = torch.relu(self.hidden_layer_1(x))\n",
    "        x = torch.relu(self.hidden_layer_2(x))\n",
    "        x = torch.relu(self.hidden_layer_3(x))\n",
    "        x = self.output_layer(x)\n",
    "        return x\n",
    "\n",
    "    def predict(self, x):\n",
    "        x = torch.tensor(x.values, dtype=torch.float32)\n",
    "        output = self.forward(x)  \n",
    "        return output.detach().numpy().tolist()[0]\n",
    "\n",
    "# Khởi tạo mô hình ANN\n",
    "input_size = X_train.shape[1]  # Số lượng đặc trưng\n",
    "output_size = 1  # Vì đây là bài toán hồi quy\n",
    "\n",
    "ann_model = ANN_Model(input_size, output_size)\n",
    "\n",
    "# Định nghĩa loss function và optimizer\n",
    "criterion = nn.MSELoss()\n",
    "optimizer = optim.Adam(ann_model.parameters(), lr=1e-3)\n",
    "\n",
    "# Huấn luyện mô hình\n",
    "n_epochs = 10000\n",
    "for epoch in range(n_epochs):\n",
    "    ann_model.train()\n",
    "    \n",
    "    # Dự đoán và tính loss\n",
    "    y_pred = ann_model(X_train_tensor)\n",
    "    loss = criterion(y_pred, y_train_tensor)\n",
    "    \n",
    "    # Gradient và cập nhật weights\n",
    "    optimizer.zero_grad()\n",
    "    loss.backward()\n",
    "    optimizer.step()\n",
    "    \n",
    "    # if (epoch + 1) % 100 == 0:\n",
    "    #     print(f'Epoch [{epoch+1}/{n_epochs}], Loss: {loss.item():.4f}')\n",
    "\n",
    "# Dự đoán trên dữ liệu test\n",
    "ann_model.eval()  # Chuyển mô hình sang chế độ đánh giá\n",
    "with torch.no_grad():\n",
    "    y_test_pred = ann_model(X_test_tensor)\n",
    "\n",
    "# Tính các thông số đánh giá\n",
    "mse = mean_squared_error(y_test_tensor.numpy(), y_test_pred.numpy())\n",
    "mae = mean_absolute_error(y_test_tensor.numpy(), y_test_pred.numpy())\n",
    "r2 = r2_score(y_test_tensor.numpy(), y_test_pred.numpy())\n",
    "\n",
    "# In các thông số đánh giá\n",
    "print(f'Mean Squared Error: {mse:.2f}')\n",
    "print(f'Mean Absolute Error: {mae:.2f}')\n",
    "print(f'R-squared: {r2:.2f}')"
   ]
  },
  {
   "cell_type": "code",
   "execution_count": 43,
   "metadata": {
    "execution": {
     "iopub.execute_input": "2025-05-05T07:02:49.282238Z",
     "iopub.status.busy": "2025-05-05T07:02:49.281882Z",
     "iopub.status.idle": "2025-05-05T07:02:49.493217Z",
     "shell.execute_reply": "2025-05-05T07:02:49.492060Z",
     "shell.execute_reply.started": "2025-05-05T07:02:49.282212Z"
    },
    "trusted": true
   },
   "outputs": [
    {
     "name": "stdout",
     "output_type": "stream",
     "text": [
      "Mean Squared Error: 1980684038933.8408\n",
      "Mean Absolute Error: 1026163.5980\n",
      "R-squared: 0.6081\n"
     ]
    }
   ],
   "source": [
    "class RandomForest:\n",
    "    def __init__(self, n_estimators=1000, max_depth=None, random_state=42):\n",
    "        self.model = RandomForestRegressor(\n",
    "            n_estimators=n_estimators,\n",
    "            max_depth=max_depth,\n",
    "            random_state=random_state\n",
    "        )\n",
    "\n",
    "    def train(self, X_train, y_train):\n",
    "        self.model.fit(X_train, y_train)\n",
    "\n",
    "    def predict(self, X_test):\n",
    "        return self.model.predict(X_test)\n",
    "\n",
    "    def evaluate(self, X_test, y_test):\n",
    "        y_pred = self.predict(X_test)\n",
    "        mse = mean_squared_error(y_test, y_pred)\n",
    "        mae = mean_absolute_error(y_test, y_pred)\n",
    "        r2 = r2_score(y_test, y_pred)\n",
    "        return mse, mae, r2\n",
    "\n",
    "# Huấn luyện mô hình Random Forest\n",
    "rf_model = RandomForest(n_estimators=100, max_depth=10)\n",
    "rf_model.train(X_train, y_train)\n",
    "mse, mae, r2 = rf_model.evaluate(X_test, y_test)\n",
    "\n",
    "print(f\"Mean Squared Error: {mse:.4f}\")\n",
    "print(f\"Mean Absolute Error: {mae:.4f}\")\n",
    "print(f\"R-squared: {r2:.4f}\")"
   ]
  },
  {
   "cell_type": "code",
   "execution_count": 44,
   "metadata": {
    "execution": {
     "iopub.execute_input": "2025-05-05T07:02:53.715671Z",
     "iopub.status.busy": "2025-05-05T07:02:53.714905Z",
     "iopub.status.idle": "2025-05-05T07:02:53.791842Z",
     "shell.execute_reply": "2025-05-05T07:02:53.790919Z",
     "shell.execute_reply.started": "2025-05-05T07:02:53.715638Z"
    },
    "trusted": true
   },
   "outputs": [
    {
     "name": "stdout",
     "output_type": "stream",
     "text": [
      "Mean Squared Error: 2093550683154.5171\n",
      "Mean Absolute Error: 1055461.2615\n",
      "R-squared: 0.5858\n"
     ]
    }
   ],
   "source": [
    "from xgboost import XGBRegressor\n",
    "\n",
    "class XGBoostModel:\n",
    "    def __init__(self, n_estimators=1000, learning_rate=0.001, max_depth=6, random_state=42):\n",
    "        self.model = XGBRegressor(\n",
    "            n_estimators=n_estimators,\n",
    "            learning_rate=learning_rate,\n",
    "            max_depth=max_depth,\n",
    "            random_state=random_state,\n",
    "            objective='reg:squarederror'\n",
    "        )\n",
    "\n",
    "    def train(self, X_train, y_train):\n",
    "        self.model.fit(X_train, y_train)\n",
    "\n",
    "    def predict(self, X_test):\n",
    "        return self.model.predict(X_test)\n",
    "\n",
    "    def evaluate(self, X_test, y_test):\n",
    "        y_pred = self.predict(X_test)\n",
    "        mse = mean_squared_error(y_test, y_pred)\n",
    "        mae = mean_absolute_error(y_test, y_pred)\n",
    "        r2 = r2_score(y_test, y_pred)\n",
    "        print(f\"Mean Squared Error: {mse:.4f}\")\n",
    "        print(f\"Mean Absolute Error: {mae:.4f}\")\n",
    "        print(f\"R-squared: {r2:.4f}\")\n",
    "        return mse, mae, r2\n",
    "\n",
    "# Huấn luyện mô hình XGBoost\n",
    "xgb_model = XGBoostModel(n_estimators=100, learning_rate=0.1, max_depth=6)\n",
    "xgb_model.train(X_train, y_train)\n",
    "\n",
    "# Đánh giá mô hình\n",
    "mse, mae, r2 = xgb_model.evaluate(X_test, y_test)"
   ]
  },
  {
   "cell_type": "code",
   "execution_count": null,
   "metadata": {
    "execution": {
     "iopub.execute_input": "2025-05-05T07:07:41.339047Z",
     "iopub.status.busy": "2025-05-05T07:07:41.338711Z",
     "iopub.status.idle": "2025-05-05T07:07:41.345334Z",
     "shell.execute_reply": "2025-05-05T07:07:41.344288Z",
     "shell.execute_reply.started": "2025-05-05T07:07:41.339023Z"
    },
    "trusted": true
   },
   "outputs": [],
   "source": [
    "import numpy as np\n",
    "\n",
    "random_idx = np.random.randint(0, len(X_test))\n",
    "\n",
    "sample = X_test.iloc[random_idx:random_idx+1]  # giữ dạng DataFrame\n",
    "true_label = y_test.iloc[random_idx]\n",
    "\n",
    "def predict_value(model, X_sample, y_sample):\n",
    "    predicted_label = model.predict(X_sample)[0]\n",
    "\n",
    "    print(f\"True label: {y_sample}\")\n",
    "    print(f\"Predicted label: {predicted_label}\")"
   ]
  },
  {
   "cell_type": "code",
   "execution_count": 60,
   "metadata": {
    "execution": {
     "iopub.execute_input": "2025-05-05T07:07:43.099118Z",
     "iopub.status.busy": "2025-05-05T07:07:43.098813Z",
     "iopub.status.idle": "2025-05-05T07:07:43.115147Z",
     "shell.execute_reply": "2025-05-05T07:07:43.114264Z",
     "shell.execute_reply.started": "2025-05-05T07:07:43.099072Z"
    },
    "trusted": true
   },
   "outputs": [
    {
     "name": "stdout",
     "output_type": "stream",
     "text": [
      "Linear Regression\n",
      "True label: 3500000\n",
      "Predicted label: 2733512.804363784\n",
      "ANN\n",
      "True label: 3500000\n",
      "Predicted label: 3582309.0\n",
      "Random Forest\n",
      "True label: 3500000\n",
      "Predicted label: 3611144.305555555\n",
      "XG Boost\n",
      "True label: 3500000\n",
      "Predicted label: 3881362.0\n"
     ]
    }
   ],
   "source": [
    "print(\"Linear Regression\")\n",
    "predict_value(reg, sample, true_label)\n",
    "print(\"ANN\")\n",
    "predict_value(ann_model, sample, true_label)\n",
    "print(\"Random Forest\")\n",
    "predict_value(rf_model, sample, true_label)\n",
    "print(\"XG Boost\")\n",
    "predict_value(xgb_model, sample, true_label)"
   ]
  },
  {
   "cell_type": "code",
   "execution_count": null,
   "metadata": {},
   "outputs": [],
   "source": [
    "# Chỉnh thêm để phân tích lý do các mô hình cho kết quả khác nhau\n",
    "\n",
    "# Tạo một mẫu đầu vào\n",
    "import numpy as np\n",
    "import pandas as pd\n",
    "\n",
    "# Sử dụng mẫu dữ liệu đã chuẩn hóa từ X_test\n",
    "test_sample = X_test.iloc[0:1].copy()\n",
    "\n",
    "# In thông tin về mẫu thử nghiệm\n",
    "print(\"Dữ liệu mẫu:\")\n",
    "print(test_sample)\n",
    "\n",
    "# So sánh kết quả giữa các mô hình với cùng một mẫu đầu vào\n",
    "print(\"\\nSo sánh dự đoán:\")\n",
    "print(\"=\" * 50)\n",
    "\n",
    "# Linear Regression\n",
    "lr_pred = reg.predict(test_sample)[0]\n",
    "print(f\"Linear Regression: {lr_pred:.2f}\")\n",
    "print(f\"Công thức: np.dot(X, weights) + bias\")\n",
    "print(f\"Trọng số: {reg.weights}\")\n",
    "print(f\"Bias: {reg.bias}\")\n",
    "\n",
    "# ANN\n",
    "ann_pred = ann_model(torch.tensor(test_sample.values, dtype=torch.float32)).item()\n",
    "print(f\"\\nANN: {ann_pred:.2f}\")\n",
    "print(f\"Mô hình: 3 lớp ẩn (64-32-16 neurons)\")\n",
    "\n",
    "# Random Forest\n",
    "rf_pred = rf_model.predict(test_sample)[0]\n",
    "print(f\"\\nRandom Forest: {rf_pred:.2f}\")\n",
    "print(f\"Tham số: n_estimators=100, max_depth=10\")\n",
    "\n",
    "# XGBoost\n",
    "xgb_pred = xgb_model.predict(test_sample)[0]\n",
    "print(f\"\\nXGBoost: {xgb_pred:.2f}\")\n",
    "print(f\"Tham số: n_estimators=100, learning_rate=0.1, max_depth=6\")\n",
    "\n",
    "# Phân tích sự khác biệt\n",
    "print(\"\\n\" + \"=\" * 50)\n",
    "print(\"Phân tích sự khác biệt giữa các mô hình:\")\n",
    "print(f\"Chênh lệch lớn nhất: {max(lr_pred, ann_pred, rf_pred, xgb_pred) - min(lr_pred, ann_pred, rf_pred, xgb_pred):.2f}\")"
   ]
  },
  {
   "cell_type": "code",
   "execution_count": null,
   "metadata": {},
   "outputs": [],
   "source": [
    "# Tạo và lưu các mô hình\n",
    "import joblib\n",
    "import os\n",
    "import torch\n",
    "\n",
    "# Tạo thư mục lưu trữ nếu chưa tồn tại\n",
    "os.makedirs(\"models_ml\", exist_ok=True)\n",
    "\n",
    "# Lưu mô hình Linear Regression\n",
    "joblib.dump(reg, \"models_ml/linear_regression_model.joblib\")\n",
    "\n",
    "# Lưu mô hình ANN\n",
    "torch.save(ann_model.state_dict(), \"models_ml/ann_model.pth\")\n",
    "\n",
    "# Lưu mô hình Random Forest\n",
    "joblib.dump(rf_model.model, \"models_ml/random_forest_model.joblib\")\n",
    "\n",
    "# Lưu mô hình XGBoost\n",
    "joblib.dump(xgb_model.model, \"models_ml/xgboost_model.joblib\")\n",
    "\n",
    "# Lưu các thành phần tiền xử lý\n",
    "# Thông tin cột\n",
    "column_info = {\n",
    "    'target_col': target_col,\n",
    "    'continuous_cols': list(continuous_cols),\n",
    "    'categorical_cols': list(categorical_cols),\n",
    "    'binary_cols': ['pool', 'garden', 'security', 'renovated'],  # Điều chỉnh theo dữ liệu thực tế\n",
    "    'input_features': list(X_train.columns)\n",
    "}\n",
    "joblib.dump(column_info, \"models_ml/column_info.joblib\")\n",
    "\n",
    "# Lưu scaler\n",
    "joblib.dump(scaler, \"models_ml/scaler.joblib\")\n",
    "\n",
    "# Lưu label encoders\n",
    "label_encoders = {}\n",
    "for col in categorical_cols:\n",
    "    label_encoders[col] = LabelEncoder()\n",
    "    label_encoders[col].fit(housing[col])\n",
    "joblib.dump(label_encoders, \"models_ml/label_encoders.joblib\")\n",
    "\n",
    "print(\"Đã lưu tất cả các mô hình và thành phần tiền xử lý vào thư mục 'models_ml'\")"
   ]
  }
 ],
 "metadata": {
  "kaggle": {
   "accelerator": "none",
   "dataSources": [
    {
     "datasetId": 7237545,
     "sourceId": 11540872,
     "sourceType": "datasetVersion"
    },
    {
     "datasetId": 7331253,
     "sourceId": 11680966,
     "sourceType": "datasetVersion"
    }
   ],
   "dockerImageVersionId": 31012,
   "isGpuEnabled": false,
   "isInternetEnabled": true,
   "language": "python",
   "sourceType": "notebook"
  },
  "kernelspec": {
   "display_name": "Python 3",
   "language": "python",
   "name": "python3"
  },
  "language_info": {
   "codemirror_mode": {
    "name": "ipython",
    "version": 3
   },
   "file_extension": ".py",
   "mimetype": "text/x-python",
   "name": "python",
   "nbconvert_exporter": "python",
   "pygments_lexer": "ipython3",
   "version": "3.11.11"
  }
 },
 "nbformat": 4,
 "nbformat_minor": 4
}
